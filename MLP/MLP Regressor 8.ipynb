{
 "cells": [
  {
   "cell_type": "code",
   "execution_count": 1,
   "metadata": {},
   "outputs": [
    {
     "data": {
      "text/html": [
       "<div>\n",
       "<style scoped>\n",
       "    .dataframe tbody tr th:only-of-type {\n",
       "        vertical-align: middle;\n",
       "    }\n",
       "\n",
       "    .dataframe tbody tr th {\n",
       "        vertical-align: top;\n",
       "    }\n",
       "\n",
       "    .dataframe thead th {\n",
       "        text-align: right;\n",
       "    }\n",
       "</style>\n",
       "<table border=\"1\" class=\"dataframe\">\n",
       "  <thead>\n",
       "    <tr style=\"text-align: right;\">\n",
       "      <th></th>\n",
       "      <th>No</th>\n",
       "      <th>Station_Names</th>\n",
       "      <th>YEAR</th>\n",
       "      <th>Month</th>\n",
       "      <th>Max_Temp</th>\n",
       "      <th>Min_Temp</th>\n",
       "      <th>Rainfall</th>\n",
       "      <th>Relative_Humidity</th>\n",
       "      <th>Wind_Speed</th>\n",
       "      <th>Cloud_Coverage</th>\n",
       "      <th>Bright_Sunshine</th>\n",
       "      <th>Station_Number</th>\n",
       "      <th>X_COR</th>\n",
       "      <th>Y_COR</th>\n",
       "      <th>LATITUDE</th>\n",
       "      <th>LONGITUDE</th>\n",
       "      <th>ALT</th>\n",
       "      <th>Period</th>\n",
       "    </tr>\n",
       "  </thead>\n",
       "  <tbody>\n",
       "    <tr>\n",
       "      <th>0</th>\n",
       "      <td>0</td>\n",
       "      <td>Barisal</td>\n",
       "      <td>1949</td>\n",
       "      <td>1</td>\n",
       "      <td>29.4</td>\n",
       "      <td>12.3</td>\n",
       "      <td>0.0</td>\n",
       "      <td>68.0</td>\n",
       "      <td>0.453704</td>\n",
       "      <td>0.6</td>\n",
       "      <td>7.831915</td>\n",
       "      <td>41950</td>\n",
       "      <td>536809.8</td>\n",
       "      <td>510151.9</td>\n",
       "      <td>22.7</td>\n",
       "      <td>90.36</td>\n",
       "      <td>4</td>\n",
       "      <td>1949.01</td>\n",
       "    </tr>\n",
       "    <tr>\n",
       "      <th>1</th>\n",
       "      <td>1</td>\n",
       "      <td>Barisal</td>\n",
       "      <td>1950</td>\n",
       "      <td>1</td>\n",
       "      <td>30.0</td>\n",
       "      <td>14.1</td>\n",
       "      <td>0.0</td>\n",
       "      <td>77.0</td>\n",
       "      <td>0.453704</td>\n",
       "      <td>0.8</td>\n",
       "      <td>7.831915</td>\n",
       "      <td>41950</td>\n",
       "      <td>536809.8</td>\n",
       "      <td>510151.9</td>\n",
       "      <td>22.7</td>\n",
       "      <td>90.36</td>\n",
       "      <td>4</td>\n",
       "      <td>1950.01</td>\n",
       "    </tr>\n",
       "    <tr>\n",
       "      <th>2</th>\n",
       "      <td>2</td>\n",
       "      <td>Barisal</td>\n",
       "      <td>1951</td>\n",
       "      <td>1</td>\n",
       "      <td>28.2</td>\n",
       "      <td>12.3</td>\n",
       "      <td>0.0</td>\n",
       "      <td>77.0</td>\n",
       "      <td>0.453704</td>\n",
       "      <td>0.6</td>\n",
       "      <td>7.831915</td>\n",
       "      <td>41950</td>\n",
       "      <td>536809.8</td>\n",
       "      <td>510151.9</td>\n",
       "      <td>22.7</td>\n",
       "      <td>90.36</td>\n",
       "      <td>4</td>\n",
       "      <td>1951.01</td>\n",
       "    </tr>\n",
       "    <tr>\n",
       "      <th>3</th>\n",
       "      <td>3</td>\n",
       "      <td>Barisal</td>\n",
       "      <td>1952</td>\n",
       "      <td>1</td>\n",
       "      <td>26.6</td>\n",
       "      <td>12.3</td>\n",
       "      <td>2.0</td>\n",
       "      <td>77.0</td>\n",
       "      <td>0.453704</td>\n",
       "      <td>1.0</td>\n",
       "      <td>7.831915</td>\n",
       "      <td>41950</td>\n",
       "      <td>536809.8</td>\n",
       "      <td>510151.9</td>\n",
       "      <td>22.7</td>\n",
       "      <td>90.36</td>\n",
       "      <td>4</td>\n",
       "      <td>1952.01</td>\n",
       "    </tr>\n",
       "    <tr>\n",
       "      <th>4</th>\n",
       "      <td>4</td>\n",
       "      <td>Barisal</td>\n",
       "      <td>1953</td>\n",
       "      <td>1</td>\n",
       "      <td>30.0</td>\n",
       "      <td>13.3</td>\n",
       "      <td>10.0</td>\n",
       "      <td>75.0</td>\n",
       "      <td>0.453704</td>\n",
       "      <td>1.6</td>\n",
       "      <td>7.831915</td>\n",
       "      <td>41950</td>\n",
       "      <td>536809.8</td>\n",
       "      <td>510151.9</td>\n",
       "      <td>22.7</td>\n",
       "      <td>90.36</td>\n",
       "      <td>4</td>\n",
       "      <td>1953.01</td>\n",
       "    </tr>\n",
       "  </tbody>\n",
       "</table>\n",
       "</div>"
      ],
      "text/plain": [
       "   No Station_Names  YEAR  Month  Max_Temp  Min_Temp  Rainfall  \\\n",
       "0   0       Barisal  1949      1      29.4      12.3       0.0   \n",
       "1   1       Barisal  1950      1      30.0      14.1       0.0   \n",
       "2   2       Barisal  1951      1      28.2      12.3       0.0   \n",
       "3   3       Barisal  1952      1      26.6      12.3       2.0   \n",
       "4   4       Barisal  1953      1      30.0      13.3      10.0   \n",
       "\n",
       "   Relative_Humidity  Wind_Speed  Cloud_Coverage  Bright_Sunshine  \\\n",
       "0               68.0    0.453704             0.6         7.831915   \n",
       "1               77.0    0.453704             0.8         7.831915   \n",
       "2               77.0    0.453704             0.6         7.831915   \n",
       "3               77.0    0.453704             1.0         7.831915   \n",
       "4               75.0    0.453704             1.6         7.831915   \n",
       "\n",
       "   Station_Number     X_COR     Y_COR  LATITUDE  LONGITUDE  ALT   Period  \n",
       "0           41950  536809.8  510151.9      22.7      90.36    4  1949.01  \n",
       "1           41950  536809.8  510151.9      22.7      90.36    4  1950.01  \n",
       "2           41950  536809.8  510151.9      22.7      90.36    4  1951.01  \n",
       "3           41950  536809.8  510151.9      22.7      90.36    4  1952.01  \n",
       "4           41950  536809.8  510151.9      22.7      90.36    4  1953.01  "
      ]
     },
     "execution_count": 1,
     "metadata": {},
     "output_type": "execute_result"
    }
   ],
   "source": [
    "import numpy as np\n",
    "import pandas as pd\n",
    "import matplotlib.pyplot as plt\n",
    "import seaborn as sns\n",
    "%matplotlib inline\n",
    "\n",
    "df = pd.read_csv('../65 Years of Weather Data Bangladesh (1948 - 2013).csv')\n",
    "df.head()"
   ]
  },
  {
   "cell_type": "code",
   "execution_count": 2,
   "metadata": {},
   "outputs": [
    {
     "data": {
      "text/html": [
       "<div>\n",
       "<style scoped>\n",
       "    .dataframe tbody tr th:only-of-type {\n",
       "        vertical-align: middle;\n",
       "    }\n",
       "\n",
       "    .dataframe tbody tr th {\n",
       "        vertical-align: top;\n",
       "    }\n",
       "\n",
       "    .dataframe thead th {\n",
       "        text-align: right;\n",
       "    }\n",
       "</style>\n",
       "<table border=\"1\" class=\"dataframe\">\n",
       "  <thead>\n",
       "    <tr style=\"text-align: right;\">\n",
       "      <th></th>\n",
       "      <th>Station_Names</th>\n",
       "      <th>Max_Temp</th>\n",
       "      <th>Min_Temp</th>\n",
       "      <th>Rainfall</th>\n",
       "      <th>Relative_Humidity</th>\n",
       "      <th>Wind_Speed</th>\n",
       "      <th>Cloud_Coverage</th>\n",
       "      <th>Bright_Sunshine</th>\n",
       "      <th>Station_Number</th>\n",
       "      <th>X_COR</th>\n",
       "      <th>Y_COR</th>\n",
       "      <th>LATITUDE</th>\n",
       "      <th>LONGITUDE</th>\n",
       "      <th>Period</th>\n",
       "    </tr>\n",
       "  </thead>\n",
       "  <tbody>\n",
       "    <tr>\n",
       "      <th>0</th>\n",
       "      <td>Barisal</td>\n",
       "      <td>29.4</td>\n",
       "      <td>12.3</td>\n",
       "      <td>0.0</td>\n",
       "      <td>68.0</td>\n",
       "      <td>0.453704</td>\n",
       "      <td>0.6</td>\n",
       "      <td>7.831915</td>\n",
       "      <td>41950</td>\n",
       "      <td>536809.8</td>\n",
       "      <td>510151.9</td>\n",
       "      <td>22.7</td>\n",
       "      <td>90.36</td>\n",
       "      <td>1949.01</td>\n",
       "    </tr>\n",
       "    <tr>\n",
       "      <th>1</th>\n",
       "      <td>Barisal</td>\n",
       "      <td>30.0</td>\n",
       "      <td>14.1</td>\n",
       "      <td>0.0</td>\n",
       "      <td>77.0</td>\n",
       "      <td>0.453704</td>\n",
       "      <td>0.8</td>\n",
       "      <td>7.831915</td>\n",
       "      <td>41950</td>\n",
       "      <td>536809.8</td>\n",
       "      <td>510151.9</td>\n",
       "      <td>22.7</td>\n",
       "      <td>90.36</td>\n",
       "      <td>1950.01</td>\n",
       "    </tr>\n",
       "    <tr>\n",
       "      <th>2</th>\n",
       "      <td>Barisal</td>\n",
       "      <td>28.2</td>\n",
       "      <td>12.3</td>\n",
       "      <td>0.0</td>\n",
       "      <td>77.0</td>\n",
       "      <td>0.453704</td>\n",
       "      <td>0.6</td>\n",
       "      <td>7.831915</td>\n",
       "      <td>41950</td>\n",
       "      <td>536809.8</td>\n",
       "      <td>510151.9</td>\n",
       "      <td>22.7</td>\n",
       "      <td>90.36</td>\n",
       "      <td>1951.01</td>\n",
       "    </tr>\n",
       "    <tr>\n",
       "      <th>3</th>\n",
       "      <td>Barisal</td>\n",
       "      <td>26.6</td>\n",
       "      <td>12.3</td>\n",
       "      <td>2.0</td>\n",
       "      <td>77.0</td>\n",
       "      <td>0.453704</td>\n",
       "      <td>1.0</td>\n",
       "      <td>7.831915</td>\n",
       "      <td>41950</td>\n",
       "      <td>536809.8</td>\n",
       "      <td>510151.9</td>\n",
       "      <td>22.7</td>\n",
       "      <td>90.36</td>\n",
       "      <td>1952.01</td>\n",
       "    </tr>\n",
       "    <tr>\n",
       "      <th>4</th>\n",
       "      <td>Barisal</td>\n",
       "      <td>30.0</td>\n",
       "      <td>13.3</td>\n",
       "      <td>10.0</td>\n",
       "      <td>75.0</td>\n",
       "      <td>0.453704</td>\n",
       "      <td>1.6</td>\n",
       "      <td>7.831915</td>\n",
       "      <td>41950</td>\n",
       "      <td>536809.8</td>\n",
       "      <td>510151.9</td>\n",
       "      <td>22.7</td>\n",
       "      <td>90.36</td>\n",
       "      <td>1953.01</td>\n",
       "    </tr>\n",
       "  </tbody>\n",
       "</table>\n",
       "</div>"
      ],
      "text/plain": [
       "  Station_Names  Max_Temp  Min_Temp  Rainfall  Relative_Humidity  Wind_Speed  \\\n",
       "0       Barisal      29.4      12.3       0.0               68.0    0.453704   \n",
       "1       Barisal      30.0      14.1       0.0               77.0    0.453704   \n",
       "2       Barisal      28.2      12.3       0.0               77.0    0.453704   \n",
       "3       Barisal      26.6      12.3       2.0               77.0    0.453704   \n",
       "4       Barisal      30.0      13.3      10.0               75.0    0.453704   \n",
       "\n",
       "   Cloud_Coverage  Bright_Sunshine  Station_Number     X_COR     Y_COR  \\\n",
       "0             0.6         7.831915           41950  536809.8  510151.9   \n",
       "1             0.8         7.831915           41950  536809.8  510151.9   \n",
       "2             0.6         7.831915           41950  536809.8  510151.9   \n",
       "3             1.0         7.831915           41950  536809.8  510151.9   \n",
       "4             1.6         7.831915           41950  536809.8  510151.9   \n",
       "\n",
       "   LATITUDE  LONGITUDE   Period  \n",
       "0      22.7      90.36  1949.01  \n",
       "1      22.7      90.36  1950.01  \n",
       "2      22.7      90.36  1951.01  \n",
       "3      22.7      90.36  1952.01  \n",
       "4      22.7      90.36  1953.01  "
      ]
     },
     "execution_count": 2,
     "metadata": {},
     "output_type": "execute_result"
    }
   ],
   "source": [
    "df = df.drop(labels=[\"No\",\"YEAR\",\"Month\",\"ALT\"], axis=1)\n",
    "df.head()"
   ]
  },
  {
   "cell_type": "code",
   "execution_count": 3,
   "metadata": {},
   "outputs": [
    {
     "data": {
      "text/html": [
       "<div>\n",
       "<style scoped>\n",
       "    .dataframe tbody tr th:only-of-type {\n",
       "        vertical-align: middle;\n",
       "    }\n",
       "\n",
       "    .dataframe tbody tr th {\n",
       "        vertical-align: top;\n",
       "    }\n",
       "\n",
       "    .dataframe thead th {\n",
       "        text-align: right;\n",
       "    }\n",
       "</style>\n",
       "<table border=\"1\" class=\"dataframe\">\n",
       "  <thead>\n",
       "    <tr style=\"text-align: right;\">\n",
       "      <th></th>\n",
       "      <th>Max_Temp</th>\n",
       "      <th>Min_Temp</th>\n",
       "      <th>Rainfall</th>\n",
       "      <th>Relative_Humidity</th>\n",
       "      <th>Cloud_Coverage</th>\n",
       "      <th>X_COR</th>\n",
       "      <th>Y_COR</th>\n",
       "      <th>Period</th>\n",
       "    </tr>\n",
       "  </thead>\n",
       "  <tbody>\n",
       "    <tr>\n",
       "      <th>0</th>\n",
       "      <td>29.4</td>\n",
       "      <td>12.3</td>\n",
       "      <td>0.0</td>\n",
       "      <td>68.0</td>\n",
       "      <td>0.6</td>\n",
       "      <td>536809.8</td>\n",
       "      <td>510151.9</td>\n",
       "      <td>1949.01</td>\n",
       "    </tr>\n",
       "    <tr>\n",
       "      <th>1</th>\n",
       "      <td>30.0</td>\n",
       "      <td>14.1</td>\n",
       "      <td>0.0</td>\n",
       "      <td>77.0</td>\n",
       "      <td>0.8</td>\n",
       "      <td>536809.8</td>\n",
       "      <td>510151.9</td>\n",
       "      <td>1950.01</td>\n",
       "    </tr>\n",
       "    <tr>\n",
       "      <th>2</th>\n",
       "      <td>28.2</td>\n",
       "      <td>12.3</td>\n",
       "      <td>0.0</td>\n",
       "      <td>77.0</td>\n",
       "      <td>0.6</td>\n",
       "      <td>536809.8</td>\n",
       "      <td>510151.9</td>\n",
       "      <td>1951.01</td>\n",
       "    </tr>\n",
       "    <tr>\n",
       "      <th>3</th>\n",
       "      <td>26.6</td>\n",
       "      <td>12.3</td>\n",
       "      <td>2.0</td>\n",
       "      <td>77.0</td>\n",
       "      <td>1.0</td>\n",
       "      <td>536809.8</td>\n",
       "      <td>510151.9</td>\n",
       "      <td>1952.01</td>\n",
       "    </tr>\n",
       "    <tr>\n",
       "      <th>4</th>\n",
       "      <td>30.0</td>\n",
       "      <td>13.3</td>\n",
       "      <td>10.0</td>\n",
       "      <td>75.0</td>\n",
       "      <td>1.6</td>\n",
       "      <td>536809.8</td>\n",
       "      <td>510151.9</td>\n",
       "      <td>1953.01</td>\n",
       "    </tr>\n",
       "  </tbody>\n",
       "</table>\n",
       "</div>"
      ],
      "text/plain": [
       "   Max_Temp  Min_Temp  Rainfall  Relative_Humidity  Cloud_Coverage     X_COR  \\\n",
       "0      29.4      12.3       0.0               68.0             0.6  536809.8   \n",
       "1      30.0      14.1       0.0               77.0             0.8  536809.8   \n",
       "2      28.2      12.3       0.0               77.0             0.6  536809.8   \n",
       "3      26.6      12.3       2.0               77.0             1.0  536809.8   \n",
       "4      30.0      13.3      10.0               75.0             1.6  536809.8   \n",
       "\n",
       "      Y_COR   Period  \n",
       "0  510151.9  1949.01  \n",
       "1  510151.9  1950.01  \n",
       "2  510151.9  1951.01  \n",
       "3  510151.9  1952.01  \n",
       "4  510151.9  1953.01  "
      ]
     },
     "execution_count": 3,
     "metadata": {},
     "output_type": "execute_result"
    }
   ],
   "source": [
    "# x= df.iloc[:,[1,2,3,4,6,7,8,9,10,11,12,13]]\n",
    "# y= df.iloc[:,5]\n",
    "\n",
    "\n",
    "x= df.iloc[:,[1,2,3,4,6,7,9,10,11,12,13]]\n",
    "y= df.iloc[:,5]\n",
    "x= x.iloc[:,[0,1,2,3,4,6,7,10]]\n",
    "x.head()"
   ]
  },
  {
   "cell_type": "code",
   "execution_count": 4,
   "metadata": {},
   "outputs": [],
   "source": [
    "from sklearn.model_selection import train_test_split\n",
    "trainX, testX, trainY, testY = train_test_split(x, y, test_size = 0.2)"
   ]
  },
  {
   "cell_type": "code",
   "execution_count": 5,
   "metadata": {},
   "outputs": [],
   "source": [
    "# Standard Scaler\n",
    "\n",
    "from sklearn.preprocessing import StandardScaler\n",
    "\n",
    "sc=StandardScaler()\n",
    "scaler = sc.fit(trainX)\n",
    "trainX_scaled = scaler.transform(trainX)\n",
    "testX_scaled = scaler.transform(testX)"
   ]
  },
  {
   "cell_type": "code",
   "execution_count": 6,
   "metadata": {},
   "outputs": [
    {
     "name": "stderr",
     "output_type": "stream",
     "text": [
      "C:\\ProgramData\\Anaconda3\\lib\\site-packages\\sklearn\\neural_network\\_multilayer_perceptron.py:582: ConvergenceWarning: Stochastic Optimizer: Maximum iterations (300) reached and the optimization hasn't converged yet.\n",
      "  warnings.warn(\n"
     ]
    },
    {
     "data": {
      "text/plain": [
       "MLPRegressor(hidden_layer_sizes=(150, 100, 50), max_iter=300)"
      ]
     },
     "execution_count": 6,
     "metadata": {},
     "output_type": "execute_result"
    }
   ],
   "source": [
    "# MLPRegressor\n",
    "\n",
    "from sklearn.neural_network import MLPRegressor\n",
    "\n",
    "mlp_reg = MLPRegressor(hidden_layer_sizes=(150,100,50),\n",
    "                       max_iter = 300,activation = 'relu',\n",
    "                       solver = 'adam')\n",
    "\n",
    "mlp_reg.fit(trainX_scaled, trainY)"
   ]
  },
  {
   "cell_type": "code",
   "execution_count": 7,
   "metadata": {},
   "outputs": [
    {
     "data": {
      "text/html": [
       "<div>\n",
       "<style scoped>\n",
       "    .dataframe tbody tr th:only-of-type {\n",
       "        vertical-align: middle;\n",
       "    }\n",
       "\n",
       "    .dataframe tbody tr th {\n",
       "        vertical-align: top;\n",
       "    }\n",
       "\n",
       "    .dataframe thead th {\n",
       "        text-align: right;\n",
       "    }\n",
       "</style>\n",
       "<table border=\"1\" class=\"dataframe\">\n",
       "  <thead>\n",
       "    <tr style=\"text-align: right;\">\n",
       "      <th></th>\n",
       "      <th>Actual</th>\n",
       "      <th>Predicted</th>\n",
       "    </tr>\n",
       "  </thead>\n",
       "  <tbody>\n",
       "    <tr>\n",
       "      <th>20847</th>\n",
       "      <td>0.800000</td>\n",
       "      <td>0.417433</td>\n",
       "    </tr>\n",
       "    <tr>\n",
       "      <th>10520</th>\n",
       "      <td>3.400000</td>\n",
       "      <td>4.001761</td>\n",
       "    </tr>\n",
       "    <tr>\n",
       "      <th>19651</th>\n",
       "      <td>1.476190</td>\n",
       "      <td>1.151980</td>\n",
       "    </tr>\n",
       "    <tr>\n",
       "      <th>9552</th>\n",
       "      <td>1.275926</td>\n",
       "      <td>1.138097</td>\n",
       "    </tr>\n",
       "    <tr>\n",
       "      <th>5688</th>\n",
       "      <td>0.600000</td>\n",
       "      <td>0.658233</td>\n",
       "    </tr>\n",
       "  </tbody>\n",
       "</table>\n",
       "</div>"
      ],
      "text/plain": [
       "         Actual  Predicted\n",
       "20847  0.800000   0.417433\n",
       "10520  3.400000   4.001761\n",
       "19651  1.476190   1.151980\n",
       "9552   1.275926   1.138097\n",
       "5688   0.600000   0.658233"
      ]
     },
     "execution_count": 7,
     "metadata": {},
     "output_type": "execute_result"
    }
   ],
   "source": [
    "y_pred = mlp_reg.predict(testX_scaled)\n",
    "df_temp = pd.DataFrame({'Actual': testY, 'Predicted': y_pred})\n",
    "df_temp.head()"
   ]
  },
  {
   "cell_type": "code",
   "execution_count": 8,
   "metadata": {},
   "outputs": [
    {
     "data": {
      "image/png": "[encoded data removed]",
      "text/plain": [
       "<Figure size 720x432 with 1 Axes>"
      ]
     },
     "metadata": {
      "needs_background": "light"
     },
     "output_type": "display_data"
    }
   ],
   "source": [
    "df_temp = df_temp.head(30)\n",
    "df_temp.plot(kind='bar',figsize=(10,6))\n",
    "plt.grid(which='major', linestyle='-', linewidth='0.5', color='green')\n",
    "plt.grid(which='minor', linestyle=':', linewidth='0.5', color='black')\n",
    "# plt.show()"
   ]
  },
  {
   "cell_type": "code",
   "execution_count": 9,
   "metadata": {},
   "outputs": [
    {
     "data": {
      "text/plain": [
       "Text(0, 0.5, 'Cost')"
      ]
     },
     "execution_count": 9,
     "metadata": {},
     "output_type": "execute_result"
    },
    {
     "data": {
      "image/png": "[encoded data removed]",
      "text/plain": [
       "<Figure size 432x288 with 1 Axes>"
      ]
     },
     "metadata": {
      "needs_background": "light"
     },
     "output_type": "display_data"
    }
   ],
   "source": [
    "plt.plot(mlp_reg.loss_curve_)\n",
    "plt.title(\"Loss Curve\", fontsize=14)\n",
    "plt.xlabel('Iterations')\n",
    "plt.ylabel('Cost')"
   ]
  },
  {
   "cell_type": "code",
   "execution_count": 10,
   "metadata": {},
   "outputs": [],
   "source": [
    "param_grid = {\n",
    "    'hidden_layer_sizes': [(150,100,50), (120,80,40), (100,50,30)],\n",
    "    'max_iter': [50, 100],\n",
    "    'activation': ['tanh', 'relu'],\n",
    "    'solver': ['sgd', 'adam'],\n",
    "    'alpha': [0.0001, 0.05],\n",
    "    'learning_rate': ['constant','adaptive'],\n",
    "}"
   ]
  },
  {
   "cell_type": "code",
   "execution_count": 11,
   "metadata": {},
   "outputs": [
    {
     "name": "stdout",
     "output_type": "stream",
     "text": [
      "{'activation': 'tanh', 'alpha': 0.0001, 'hidden_layer_sizes': (150, 100, 50), 'learning_rate': 'adaptive', 'max_iter': 100, 'solver': 'adam'}\n"
     ]
    },
    {
     "name": "stderr",
     "output_type": "stream",
     "text": [
      "C:\\ProgramData\\Anaconda3\\lib\\site-packages\\sklearn\\neural_network\\_multilayer_perceptron.py:582: ConvergenceWarning: Stochastic Optimizer: Maximum iterations (100) reached and the optimization hasn't converged yet.\n",
      "  warnings.warn(\n"
     ]
    }
   ],
   "source": [
    "from sklearn.model_selection import GridSearchCV\n",
    "\n",
    "grid = GridSearchCV(mlp_reg, param_grid, n_jobs= -1, cv=5)\n",
    "grid.fit(trainX_scaled, trainY)\n",
    "\n",
    "print(grid.best_params_) "
   ]
  },
  {
   "cell_type": "code",
   "execution_count": 12,
   "metadata": {},
   "outputs": [
    {
     "data": {
      "text/html": [
       "<div>\n",
       "<style scoped>\n",
       "    .dataframe tbody tr th:only-of-type {\n",
       "        vertical-align: middle;\n",
       "    }\n",
       "\n",
       "    .dataframe tbody tr th {\n",
       "        vertical-align: top;\n",
       "    }\n",
       "\n",
       "    .dataframe thead th {\n",
       "        text-align: right;\n",
       "    }\n",
       "</style>\n",
       "<table border=\"1\" class=\"dataframe\">\n",
       "  <thead>\n",
       "    <tr style=\"text-align: right;\">\n",
       "      <th></th>\n",
       "      <th>Actual</th>\n",
       "      <th>Predicted</th>\n",
       "    </tr>\n",
       "  </thead>\n",
       "  <tbody>\n",
       "    <tr>\n",
       "      <th>20847</th>\n",
       "      <td>0.800000</td>\n",
       "      <td>0.660598</td>\n",
       "    </tr>\n",
       "    <tr>\n",
       "      <th>10520</th>\n",
       "      <td>3.400000</td>\n",
       "      <td>3.718917</td>\n",
       "    </tr>\n",
       "    <tr>\n",
       "      <th>19651</th>\n",
       "      <td>1.476190</td>\n",
       "      <td>1.029378</td>\n",
       "    </tr>\n",
       "    <tr>\n",
       "      <th>9552</th>\n",
       "      <td>1.275926</td>\n",
       "      <td>1.046537</td>\n",
       "    </tr>\n",
       "    <tr>\n",
       "      <th>5688</th>\n",
       "      <td>0.600000</td>\n",
       "      <td>0.908619</td>\n",
       "    </tr>\n",
       "  </tbody>\n",
       "</table>\n",
       "</div>"
      ],
      "text/plain": [
       "         Actual  Predicted\n",
       "20847  0.800000   0.660598\n",
       "10520  3.400000   3.718917\n",
       "19651  1.476190   1.029378\n",
       "9552   1.275926   1.046537\n",
       "5688   0.600000   0.908619"
      ]
     },
     "execution_count": 12,
     "metadata": {},
     "output_type": "execute_result"
    }
   ],
   "source": [
    "grid_predictions = grid.predict(testX_scaled) \n",
    "df_temp2 = pd.DataFrame({'Actual': testY, 'Predicted': grid_predictions})\n",
    "df_temp2.head()"
   ]
  },
  {
   "cell_type": "code",
   "execution_count": 13,
   "metadata": {},
   "outputs": [
    {
     "data": {
      "image/png": "[encoded data removed]",
      "text/plain": [
       "<Figure size 720x432 with 1 Axes>"
      ]
     },
     "metadata": {
      "needs_background": "light"
     },
     "output_type": "display_data"
    }
   ],
   "source": [
    "df_temp2 = df_temp2.head(30)\n",
    "df_temp2.plot(kind='bar',figsize=(10,6))\n",
    "plt.grid(which='major', linestyle='-', linewidth='0.5', color='green')\n",
    "plt.grid(which='minor', linestyle=':', linewidth='0.5', color='black')\n",
    "# plt.show()"
   ]
  },
  {
   "cell_type": "code",
   "execution_count": 14,
   "metadata": {},
   "outputs": [
    {
     "data": {
      "text/plain": [
       "0.7272552836680148"
      ]
     },
     "execution_count": 14,
     "metadata": {},
     "output_type": "execute_result"
    }
   ],
   "source": [
    "from sklearn.metrics import r2_score\n",
    "score= r2_score(testY,grid_predictions)\n",
    "score"
   ]
  },
  {
   "cell_type": "code",
   "execution_count": 15,
   "metadata": {},
   "outputs": [
    {
     "data": {
      "text/plain": [
       "0.6910456015056619"
      ]
     },
     "execution_count": 15,
     "metadata": {},
     "output_type": "execute_result"
    }
   ],
   "source": [
    "from sklearn.metrics import r2_score\n",
    "score= r2_score(testY,y_pred)\n",
    "score"
   ]
  },
  {
   "cell_type": "code",
   "execution_count": null,
   "metadata": {},
   "outputs": [],
   "source": []
  }
 ],
 "metadata": {
  "kernelspec": {
   "display_name": "Python 3",
   "language": "python",
   "name": "python3"
  },
  "language_info": {
   "codemirror_mode": {
    "name": "ipython",
    "version": 3
   },
   "file_extension": ".py",
   "mimetype": "text/x-python",
   "name": "python",
   "nbconvert_exporter": "python",
   "pygments_lexer": "ipython3",
   "version": "3.8.5"
  }
 },
 "nbformat": 4,
 "nbformat_minor": 4
}
