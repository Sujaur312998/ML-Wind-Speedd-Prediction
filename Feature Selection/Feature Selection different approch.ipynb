{
 "cells": [
  {
   "cell_type": "code",
   "execution_count": 1,
   "metadata": {},
   "outputs": [],
   "source": [
    "import numpy as np\n",
    "import pandas as pd\n",
    "import matplotlib.pyplot as plt\n",
    "import seaborn as sns\n",
    "%matplotlib inline\n",
    "\n",
    "df = pd.read_csv('../65 Years of Weather Data Bangladesh (1948 - 2013).csv')"
   ]
  },
  {
   "cell_type": "code",
   "execution_count": 2,
   "metadata": {},
   "outputs": [
    {
     "data": {
      "text/html": [
       "<div>\n",
       "<style scoped>\n",
       "    .dataframe tbody tr th:only-of-type {\n",
       "        vertical-align: middle;\n",
       "    }\n",
       "\n",
       "    .dataframe tbody tr th {\n",
       "        vertical-align: top;\n",
       "    }\n",
       "\n",
       "    .dataframe thead th {\n",
       "        text-align: right;\n",
       "    }\n",
       "</style>\n",
       "<table border=\"1\" class=\"dataframe\">\n",
       "  <thead>\n",
       "    <tr style=\"text-align: right;\">\n",
       "      <th></th>\n",
       "      <th>Station_Names</th>\n",
       "      <th>Max_Temp</th>\n",
       "      <th>Min_Temp</th>\n",
       "      <th>Rainfall</th>\n",
       "      <th>Relative_Humidity</th>\n",
       "      <th>Wind_Speed</th>\n",
       "      <th>Cloud_Coverage</th>\n",
       "      <th>Bright_Sunshine</th>\n",
       "      <th>Station_Number</th>\n",
       "      <th>X_COR</th>\n",
       "      <th>Y_COR</th>\n",
       "      <th>LATITUDE</th>\n",
       "      <th>LONGITUDE</th>\n",
       "      <th>Period</th>\n",
       "    </tr>\n",
       "  </thead>\n",
       "  <tbody>\n",
       "    <tr>\n",
       "      <th>0</th>\n",
       "      <td>Barisal</td>\n",
       "      <td>29.4</td>\n",
       "      <td>12.3</td>\n",
       "      <td>0.0</td>\n",
       "      <td>68.0</td>\n",
       "      <td>0.453704</td>\n",
       "      <td>0.6</td>\n",
       "      <td>7.831915</td>\n",
       "      <td>41950</td>\n",
       "      <td>536809.8</td>\n",
       "      <td>510151.9</td>\n",
       "      <td>22.7</td>\n",
       "      <td>90.36</td>\n",
       "      <td>1949.01</td>\n",
       "    </tr>\n",
       "    <tr>\n",
       "      <th>1</th>\n",
       "      <td>Barisal</td>\n",
       "      <td>30.0</td>\n",
       "      <td>14.1</td>\n",
       "      <td>0.0</td>\n",
       "      <td>77.0</td>\n",
       "      <td>0.453704</td>\n",
       "      <td>0.8</td>\n",
       "      <td>7.831915</td>\n",
       "      <td>41950</td>\n",
       "      <td>536809.8</td>\n",
       "      <td>510151.9</td>\n",
       "      <td>22.7</td>\n",
       "      <td>90.36</td>\n",
       "      <td>1950.01</td>\n",
       "    </tr>\n",
       "    <tr>\n",
       "      <th>2</th>\n",
       "      <td>Barisal</td>\n",
       "      <td>28.2</td>\n",
       "      <td>12.3</td>\n",
       "      <td>0.0</td>\n",
       "      <td>77.0</td>\n",
       "      <td>0.453704</td>\n",
       "      <td>0.6</td>\n",
       "      <td>7.831915</td>\n",
       "      <td>41950</td>\n",
       "      <td>536809.8</td>\n",
       "      <td>510151.9</td>\n",
       "      <td>22.7</td>\n",
       "      <td>90.36</td>\n",
       "      <td>1951.01</td>\n",
       "    </tr>\n",
       "    <tr>\n",
       "      <th>3</th>\n",
       "      <td>Barisal</td>\n",
       "      <td>26.6</td>\n",
       "      <td>12.3</td>\n",
       "      <td>2.0</td>\n",
       "      <td>77.0</td>\n",
       "      <td>0.453704</td>\n",
       "      <td>1.0</td>\n",
       "      <td>7.831915</td>\n",
       "      <td>41950</td>\n",
       "      <td>536809.8</td>\n",
       "      <td>510151.9</td>\n",
       "      <td>22.7</td>\n",
       "      <td>90.36</td>\n",
       "      <td>1952.01</td>\n",
       "    </tr>\n",
       "    <tr>\n",
       "      <th>4</th>\n",
       "      <td>Barisal</td>\n",
       "      <td>30.0</td>\n",
       "      <td>13.3</td>\n",
       "      <td>10.0</td>\n",
       "      <td>75.0</td>\n",
       "      <td>0.453704</td>\n",
       "      <td>1.6</td>\n",
       "      <td>7.831915</td>\n",
       "      <td>41950</td>\n",
       "      <td>536809.8</td>\n",
       "      <td>510151.9</td>\n",
       "      <td>22.7</td>\n",
       "      <td>90.36</td>\n",
       "      <td>1953.01</td>\n",
       "    </tr>\n",
       "  </tbody>\n",
       "</table>\n",
       "</div>"
      ],
      "text/plain": [
       "  Station_Names  Max_Temp  Min_Temp  Rainfall  Relative_Humidity  Wind_Speed  \\\n",
       "0       Barisal      29.4      12.3       0.0               68.0    0.453704   \n",
       "1       Barisal      30.0      14.1       0.0               77.0    0.453704   \n",
       "2       Barisal      28.2      12.3       0.0               77.0    0.453704   \n",
       "3       Barisal      26.6      12.3       2.0               77.0    0.453704   \n",
       "4       Barisal      30.0      13.3      10.0               75.0    0.453704   \n",
       "\n",
       "   Cloud_Coverage  Bright_Sunshine  Station_Number     X_COR     Y_COR  \\\n",
       "0             0.6         7.831915           41950  536809.8  510151.9   \n",
       "1             0.8         7.831915           41950  536809.8  510151.9   \n",
       "2             0.6         7.831915           41950  536809.8  510151.9   \n",
       "3             1.0         7.831915           41950  536809.8  510151.9   \n",
       "4             1.6         7.831915           41950  536809.8  510151.9   \n",
       "\n",
       "   LATITUDE  LONGITUDE   Period  \n",
       "0      22.7      90.36  1949.01  \n",
       "1      22.7      90.36  1950.01  \n",
       "2      22.7      90.36  1951.01  \n",
       "3      22.7      90.36  1952.01  \n",
       "4      22.7      90.36  1953.01  "
      ]
     },
     "execution_count": 2,
     "metadata": {},
     "output_type": "execute_result"
    }
   ],
   "source": [
    "df = df.drop(labels=[\"No\",\"YEAR\",\"Month\",\"ALT\"], axis=1)\n",
    "df.head()"
   ]
  },
  {
   "cell_type": "code",
   "execution_count": 6,
   "metadata": {},
   "outputs": [
    {
     "data": {
      "text/html": [
       "<div>\n",
       "<style scoped>\n",
       "    .dataframe tbody tr th:only-of-type {\n",
       "        vertical-align: middle;\n",
       "    }\n",
       "\n",
       "    .dataframe tbody tr th {\n",
       "        vertical-align: top;\n",
       "    }\n",
       "\n",
       "    .dataframe thead th {\n",
       "        text-align: right;\n",
       "    }\n",
       "</style>\n",
       "<table border=\"1\" class=\"dataframe\">\n",
       "  <thead>\n",
       "    <tr style=\"text-align: right;\">\n",
       "      <th></th>\n",
       "      <th>Max_Temp</th>\n",
       "      <th>Min_Temp</th>\n",
       "      <th>Rainfall</th>\n",
       "      <th>Relative_Humidity</th>\n",
       "      <th>Cloud_Coverage</th>\n",
       "      <th>Bright_Sunshine</th>\n",
       "      <th>X_COR</th>\n",
       "      <th>Y_COR</th>\n",
       "      <th>LATITUDE</th>\n",
       "      <th>LONGITUDE</th>\n",
       "      <th>Period</th>\n",
       "    </tr>\n",
       "  </thead>\n",
       "  <tbody>\n",
       "    <tr>\n",
       "      <th>0</th>\n",
       "      <td>29.4</td>\n",
       "      <td>12.3</td>\n",
       "      <td>0.0</td>\n",
       "      <td>68.0</td>\n",
       "      <td>0.6</td>\n",
       "      <td>7.831915</td>\n",
       "      <td>536809.8</td>\n",
       "      <td>510151.9</td>\n",
       "      <td>22.7</td>\n",
       "      <td>90.36</td>\n",
       "      <td>1949.01</td>\n",
       "    </tr>\n",
       "    <tr>\n",
       "      <th>1</th>\n",
       "      <td>30.0</td>\n",
       "      <td>14.1</td>\n",
       "      <td>0.0</td>\n",
       "      <td>77.0</td>\n",
       "      <td>0.8</td>\n",
       "      <td>7.831915</td>\n",
       "      <td>536809.8</td>\n",
       "      <td>510151.9</td>\n",
       "      <td>22.7</td>\n",
       "      <td>90.36</td>\n",
       "      <td>1950.01</td>\n",
       "    </tr>\n",
       "    <tr>\n",
       "      <th>2</th>\n",
       "      <td>28.2</td>\n",
       "      <td>12.3</td>\n",
       "      <td>0.0</td>\n",
       "      <td>77.0</td>\n",
       "      <td>0.6</td>\n",
       "      <td>7.831915</td>\n",
       "      <td>536809.8</td>\n",
       "      <td>510151.9</td>\n",
       "      <td>22.7</td>\n",
       "      <td>90.36</td>\n",
       "      <td>1951.01</td>\n",
       "    </tr>\n",
       "    <tr>\n",
       "      <th>3</th>\n",
       "      <td>26.6</td>\n",
       "      <td>12.3</td>\n",
       "      <td>2.0</td>\n",
       "      <td>77.0</td>\n",
       "      <td>1.0</td>\n",
       "      <td>7.831915</td>\n",
       "      <td>536809.8</td>\n",
       "      <td>510151.9</td>\n",
       "      <td>22.7</td>\n",
       "      <td>90.36</td>\n",
       "      <td>1952.01</td>\n",
       "    </tr>\n",
       "    <tr>\n",
       "      <th>4</th>\n",
       "      <td>30.0</td>\n",
       "      <td>13.3</td>\n",
       "      <td>10.0</td>\n",
       "      <td>75.0</td>\n",
       "      <td>1.6</td>\n",
       "      <td>7.831915</td>\n",
       "      <td>536809.8</td>\n",
       "      <td>510151.9</td>\n",
       "      <td>22.7</td>\n",
       "      <td>90.36</td>\n",
       "      <td>1953.01</td>\n",
       "    </tr>\n",
       "  </tbody>\n",
       "</table>\n",
       "</div>"
      ],
      "text/plain": [
       "   Max_Temp  Min_Temp  Rainfall  Relative_Humidity  Cloud_Coverage  \\\n",
       "0      29.4      12.3       0.0               68.0             0.6   \n",
       "1      30.0      14.1       0.0               77.0             0.8   \n",
       "2      28.2      12.3       0.0               77.0             0.6   \n",
       "3      26.6      12.3       2.0               77.0             1.0   \n",
       "4      30.0      13.3      10.0               75.0             1.6   \n",
       "\n",
       "   Bright_Sunshine     X_COR     Y_COR  LATITUDE  LONGITUDE   Period  \n",
       "0         7.831915  536809.8  510151.9      22.7      90.36  1949.01  \n",
       "1         7.831915  536809.8  510151.9      22.7      90.36  1950.01  \n",
       "2         7.831915  536809.8  510151.9      22.7      90.36  1951.01  \n",
       "3         7.831915  536809.8  510151.9      22.7      90.36  1952.01  \n",
       "4         7.831915  536809.8  510151.9      22.7      90.36  1953.01  "
      ]
     },
     "execution_count": 6,
     "metadata": {},
     "output_type": "execute_result"
    }
   ],
   "source": [
    "x= df.iloc[:,[1,2,3,4,6,7,9,10,11,12,13]]\n",
    "y= df.iloc[:,5]\n",
    "# x= x.iloc[:,[0,1,2,3,4,6,7,10]]\n",
    "x.head()"
   ]
  },
  {
   "cell_type": "code",
   "execution_count": 5,
   "metadata": {
    "scrolled": true
   },
   "outputs": [
    {
     "name": "stdout",
     "output_type": "stream",
     "text": [
      "Feature: 0, Score: 0.06881\n",
      "Feature: 1, Score: 0.17478\n",
      "Feature: 2, Score: 0.03963\n",
      "Feature: 3, Score: 0.05542\n",
      "Feature: 4, Score: 0.07495\n",
      "Feature: 5, Score: 0.05506\n",
      "Feature: 6, Score: 0.03868\n",
      "Feature: 7, Score: 0.06218\n",
      "Feature: 8, Score: 0.15058\n",
      "Feature: 9, Score: 0.04880\n",
      "Feature: 10, Score: 0.23109\n"
     ]
    },
    {
     "data": {
      "image/png": "[encoded data removed]",
      "text/plain": [
       "<Figure size 432x288 with 1 Axes>"
      ]
     },
     "metadata": {
      "needs_background": "light"
     },
     "output_type": "display_data"
    }
   ],
   "source": [
    "#### RandomForestRegressor feature Selection\n",
    "\n",
    "from sklearn.ensemble import RandomForestRegressor\n",
    "from matplotlib import pyplot\n",
    "\n",
    "\n",
    "model = RandomForestRegressor()\n",
    "model.fit(x, y)\n",
    "importance = model.feature_importances_\n",
    "\n",
    "for i,v in enumerate(importance):\n",
    "\tprint('Feature: %0d, Score: %.5f' % (i,v))\n",
    "# plot feature importance\n",
    "pyplot.bar([x for x in range(len(importance))], importance)\n",
    "pyplot.show()"
   ]
  },
  {
   "cell_type": "code",
   "execution_count": 7,
   "metadata": {},
   "outputs": [
    {
     "name": "stdout",
     "output_type": "stream",
     "text": [
      "Feature: 0, Score: 0.01184\n",
      "Feature: 1, Score: 0.04221\n",
      "Feature: 2, Score: 0.55857\n",
      "Feature: 3, Score: 0.10946\n",
      "Feature: 4, Score: 0.00212\n",
      "Feature: 5, Score: 0.00107\n",
      "Feature: 6, Score: 0.58885\n",
      "Feature: 7, Score: 0.72531\n",
      "Feature: 8, Score: -0.00015\n",
      "Feature: 9, Score: 0.00012\n",
      "Feature: 10, Score: 0.39683\n"
     ]
    },
    {
     "data": {
      "image/png": "[encoded data removed]",
      "text/plain": [
       "<Figure size 432x288 with 1 Axes>"
      ]
     },
     "metadata": {
      "needs_background": "light"
     },
     "output_type": "display_data"
    }
   ],
   "source": [
    "# permutation feature importance with knn for regression\n",
    "from sklearn.neighbors import KNeighborsRegressor\n",
    "from sklearn.inspection import permutation_importance\n",
    "from matplotlib import pyplot\n",
    "\n",
    "# define the model\n",
    "model = KNeighborsRegressor()\n",
    "# fit the model\n",
    "model.fit(x, y)\n",
    "\n",
    "# perform permutation importance\n",
    "results = permutation_importance(model, x, y, scoring='neg_mean_squared_error')\n",
    "# get importance\n",
    "importance = results.importances_mean\n",
    "# summarize feature importance\n",
    "for i,v in enumerate(importance):\n",
    "\tprint('Feature: %0d, Score: %.5f' % (i,v))\n",
    "# plot feature importance\n",
    "pyplot.bar([x for x in range(len(importance))], importance)\n",
    "pyplot.show()"
   ]
  },
  {
   "cell_type": "code",
   "execution_count": 8,
   "metadata": {},
   "outputs": [
    {
     "name": "stdout",
     "output_type": "stream",
     "text": [
      "(21120, 5)\n"
     ]
    },
    {
     "data": {
      "image/png": "[encoded data removed]",
      "text/plain": [
       "<Figure size 432x288 with 1 Axes>"
      ]
     },
     "metadata": {
      "needs_background": "light"
     },
     "output_type": "display_data"
    }
   ],
   "source": [
    "# pearson's correlation feature selection for numeric input and numeric output\n",
    "from sklearn.feature_selection import SelectKBest\n",
    "from sklearn.feature_selection import f_regression\n",
    "\n",
    "# define feature selection\n",
    "fs = SelectKBest(score_func=f_regression, k=5)\n",
    "# apply feature selection\n",
    "X_selected = fs.fit_transform(x, y)\n",
    "print(X_selected.shape)\n",
    "\n",
    "importance = results.importances_mean\n",
    "pyplot.bar([x for x in range(len(importance))], importance)\n",
    "pyplot.show()"
   ]
  },
  {
   "cell_type": "code",
   "execution_count": null,
   "metadata": {},
   "outputs": [],
   "source": []
  }
 ],
 "metadata": {
  "kernelspec": {
   "display_name": "Python 3",
   "language": "python",
   "name": "python3"
  },
  "language_info": {
   "codemirror_mode": {
    "name": "ipython",
    "version": 3
   },
   "file_extension": ".py",
   "mimetype": "text/x-python",
   "name": "python",
   "nbconvert_exporter": "python",
   "pygments_lexer": "ipython3",
   "version": "3.8.5"
  }
 },
 "nbformat": 4,
 "nbformat_minor": 4
}
