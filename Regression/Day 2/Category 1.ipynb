{
 "cells": [
  {
   "cell_type": "markdown",
   "metadata": {},
   "source": [
    "# Import Libraries and dataset"
   ]
  },
  {
   "cell_type": "code",
   "execution_count": 1,
   "metadata": {},
   "outputs": [],
   "source": [
    "\n",
    "\n",
    "import numpy as np\n",
    "import pandas as pd\n",
    "import matplotlib.pyplot as plt\n",
    "from sklearn.impute import SimpleImputer\n",
    "\n",
    "\n",
    "from sklearn import preprocessing\n",
    "from sklearn.model_selection import train_test_split\n",
    "from collections import Counter\n",
    "from sklearn.metrics import confusion_matrix\n",
    "from xgboost import XGBClassifier\n",
    "from sklearn.ensemble import RandomForestClassifier\n",
    "from sklearn.metrics import accuracy_score, confusion_matrix,classification_report,roc_curve, roc_auc_score\n",
    "import warnings\n",
    "\n",
    "df = pd.read_csv('../../65 Years of Weather Data Bangladesh (1948 - 2013).csv')"
   ]
  },
  {
   "cell_type": "markdown",
   "metadata": {},
   "source": [
    "# Category 1.0"
   ]
  },
  {
   "cell_type": "code",
   "execution_count": 2,
   "metadata": {},
   "outputs": [
    {
     "data": {
      "text/html": [
       "<div>\n",
       "<style scoped>\n",
       "    .dataframe tbody tr th:only-of-type {\n",
       "        vertical-align: middle;\n",
       "    }\n",
       "\n",
       "    .dataframe tbody tr th {\n",
       "        vertical-align: top;\n",
       "    }\n",
       "\n",
       "    .dataframe thead th {\n",
       "        text-align: right;\n",
       "    }\n",
       "</style>\n",
       "<table border=\"1\" class=\"dataframe\">\n",
       "  <thead>\n",
       "    <tr style=\"text-align: right;\">\n",
       "      <th></th>\n",
       "      <th>Max_Temp</th>\n",
       "      <th>Min_Temp</th>\n",
       "      <th>Rainfall</th>\n",
       "      <th>Relative_Humidity</th>\n",
       "      <th>Wind_Speed</th>\n",
       "      <th>Cloud_Coverage</th>\n",
       "      <th>Bright_Sunshine</th>\n",
       "      <th>X_COR</th>\n",
       "      <th>Y_COR</th>\n",
       "      <th>LATITUDE</th>\n",
       "      <th>LONGITUDE</th>\n",
       "      <th>Period</th>\n",
       "    </tr>\n",
       "  </thead>\n",
       "  <tbody>\n",
       "    <tr>\n",
       "      <th>2748</th>\n",
       "      <td>31.566667</td>\n",
       "      <td>13.7</td>\n",
       "      <td>0.000000</td>\n",
       "      <td>70.333333</td>\n",
       "      <td>3.033333</td>\n",
       "      <td>0.1</td>\n",
       "      <td>6.411131</td>\n",
       "      <td>0.0</td>\n",
       "      <td>0.0</td>\n",
       "      <td>22.35</td>\n",
       "      <td>91.8166</td>\n",
       "      <td>2009.01</td>\n",
       "    </tr>\n",
       "    <tr>\n",
       "      <th>2749</th>\n",
       "      <td>32.400000</td>\n",
       "      <td>13.5</td>\n",
       "      <td>0.000000</td>\n",
       "      <td>67.000000</td>\n",
       "      <td>2.800000</td>\n",
       "      <td>0.9</td>\n",
       "      <td>6.411131</td>\n",
       "      <td>0.0</td>\n",
       "      <td>0.0</td>\n",
       "      <td>22.35</td>\n",
       "      <td>91.8166</td>\n",
       "      <td>2011.01</td>\n",
       "    </tr>\n",
       "    <tr>\n",
       "      <th>2750</th>\n",
       "      <td>30.700000</td>\n",
       "      <td>14.9</td>\n",
       "      <td>0.000000</td>\n",
       "      <td>75.000000</td>\n",
       "      <td>3.300000</td>\n",
       "      <td>1.5</td>\n",
       "      <td>6.411131</td>\n",
       "      <td>0.0</td>\n",
       "      <td>0.0</td>\n",
       "      <td>22.35</td>\n",
       "      <td>91.8166</td>\n",
       "      <td>2012.01</td>\n",
       "    </tr>\n",
       "    <tr>\n",
       "      <th>2751</th>\n",
       "      <td>31.600000</td>\n",
       "      <td>12.7</td>\n",
       "      <td>0.000000</td>\n",
       "      <td>69.000000</td>\n",
       "      <td>3.000000</td>\n",
       "      <td>0.3</td>\n",
       "      <td>6.411131</td>\n",
       "      <td>0.0</td>\n",
       "      <td>0.0</td>\n",
       "      <td>22.35</td>\n",
       "      <td>91.8166</td>\n",
       "      <td>2013.01</td>\n",
       "    </tr>\n",
       "    <tr>\n",
       "      <th>2752</th>\n",
       "      <td>34.833333</td>\n",
       "      <td>16.7</td>\n",
       "      <td>0.333333</td>\n",
       "      <td>62.333333</td>\n",
       "      <td>3.166667</td>\n",
       "      <td>0.7</td>\n",
       "      <td>6.411131</td>\n",
       "      <td>0.0</td>\n",
       "      <td>0.0</td>\n",
       "      <td>22.35</td>\n",
       "      <td>91.8166</td>\n",
       "      <td>2009.02</td>\n",
       "    </tr>\n",
       "  </tbody>\n",
       "</table>\n",
       "</div>"
      ],
      "text/plain": [
       "       Max_Temp  Min_Temp  Rainfall  Relative_Humidity  Wind_Speed  \\\n",
       "2748  31.566667      13.7  0.000000          70.333333    3.033333   \n",
       "2749  32.400000      13.5  0.000000          67.000000    2.800000   \n",
       "2750  30.700000      14.9  0.000000          75.000000    3.300000   \n",
       "2751  31.600000      12.7  0.000000          69.000000    3.000000   \n",
       "2752  34.833333      16.7  0.333333          62.333333    3.166667   \n",
       "\n",
       "      Cloud_Coverage  Bright_Sunshine  X_COR  Y_COR  LATITUDE  LONGITUDE  \\\n",
       "2748             0.1         6.411131    0.0    0.0     22.35    91.8166   \n",
       "2749             0.9         6.411131    0.0    0.0     22.35    91.8166   \n",
       "2750             1.5         6.411131    0.0    0.0     22.35    91.8166   \n",
       "2751             0.3         6.411131    0.0    0.0     22.35    91.8166   \n",
       "2752             0.7         6.411131    0.0    0.0     22.35    91.8166   \n",
       "\n",
       "       Period  \n",
       "2748  2009.01  \n",
       "2749  2011.01  \n",
       "2750  2012.01  \n",
       "2751  2013.01  \n",
       "2752  2009.02  "
      ]
     },
     "execution_count": 2,
     "metadata": {},
     "output_type": "execute_result"
    }
   ],
   "source": [
    "# Players to be selected\n",
    "li = [\"Chittagong (City-Ambagan)\",\"Chittagong (IAP-Patenga)\",\"Sandwip\",\"Sitakunda\",\"Kutubdia\",\"Cox's Bazar\",\"Teknaf\",\"Sylhet\",\"Srimangal\",\"Rangamati\"]\n",
    "\n",
    "df_new=df[df.Station_Names.isin(li)]\n",
    "df_new=df_new.drop(labels=[\"No\",\"Station_Names\",\"YEAR\",\"Month\",\"ALT\",\"Station_Number\"], axis=1)\n",
    "df_new.head()"
   ]
  },
  {
   "cell_type": "code",
   "execution_count": 3,
   "metadata": {},
   "outputs": [
    {
     "data": {
      "text/html": [
       "<div>\n",
       "<style scoped>\n",
       "    .dataframe tbody tr th:only-of-type {\n",
       "        vertical-align: middle;\n",
       "    }\n",
       "\n",
       "    .dataframe tbody tr th {\n",
       "        vertical-align: top;\n",
       "    }\n",
       "\n",
       "    .dataframe thead th {\n",
       "        text-align: right;\n",
       "    }\n",
       "</style>\n",
       "<table border=\"1\" class=\"dataframe\">\n",
       "  <thead>\n",
       "    <tr style=\"text-align: right;\">\n",
       "      <th></th>\n",
       "      <th>Max_Temp</th>\n",
       "      <th>Min_Temp</th>\n",
       "      <th>Rainfall</th>\n",
       "      <th>Relative_Humidity</th>\n",
       "      <th>Cloud_Coverage</th>\n",
       "      <th>Bright_Sunshine</th>\n",
       "      <th>LATITUDE</th>\n",
       "      <th>LONGITUDE</th>\n",
       "      <th>Period</th>\n",
       "      <th>Wind_Speed</th>\n",
       "    </tr>\n",
       "  </thead>\n",
       "  <tbody>\n",
       "    <tr>\n",
       "      <th>2748</th>\n",
       "      <td>31.566667</td>\n",
       "      <td>13.7</td>\n",
       "      <td>0.000000</td>\n",
       "      <td>70.333333</td>\n",
       "      <td>0.1</td>\n",
       "      <td>6.411131</td>\n",
       "      <td>22.35</td>\n",
       "      <td>91.8166</td>\n",
       "      <td>2009.01</td>\n",
       "      <td>3.033333</td>\n",
       "    </tr>\n",
       "    <tr>\n",
       "      <th>2749</th>\n",
       "      <td>32.400000</td>\n",
       "      <td>13.5</td>\n",
       "      <td>0.000000</td>\n",
       "      <td>67.000000</td>\n",
       "      <td>0.9</td>\n",
       "      <td>6.411131</td>\n",
       "      <td>22.35</td>\n",
       "      <td>91.8166</td>\n",
       "      <td>2011.01</td>\n",
       "      <td>2.800000</td>\n",
       "    </tr>\n",
       "    <tr>\n",
       "      <th>2750</th>\n",
       "      <td>30.700000</td>\n",
       "      <td>14.9</td>\n",
       "      <td>0.000000</td>\n",
       "      <td>75.000000</td>\n",
       "      <td>1.5</td>\n",
       "      <td>6.411131</td>\n",
       "      <td>22.35</td>\n",
       "      <td>91.8166</td>\n",
       "      <td>2012.01</td>\n",
       "      <td>3.300000</td>\n",
       "    </tr>\n",
       "    <tr>\n",
       "      <th>2751</th>\n",
       "      <td>31.600000</td>\n",
       "      <td>12.7</td>\n",
       "      <td>0.000000</td>\n",
       "      <td>69.000000</td>\n",
       "      <td>0.3</td>\n",
       "      <td>6.411131</td>\n",
       "      <td>22.35</td>\n",
       "      <td>91.8166</td>\n",
       "      <td>2013.01</td>\n",
       "      <td>3.000000</td>\n",
       "    </tr>\n",
       "    <tr>\n",
       "      <th>2752</th>\n",
       "      <td>34.833333</td>\n",
       "      <td>16.7</td>\n",
       "      <td>0.333333</td>\n",
       "      <td>62.333333</td>\n",
       "      <td>0.7</td>\n",
       "      <td>6.411131</td>\n",
       "      <td>22.35</td>\n",
       "      <td>91.8166</td>\n",
       "      <td>2009.02</td>\n",
       "      <td>3.166667</td>\n",
       "    </tr>\n",
       "  </tbody>\n",
       "</table>\n",
       "</div>"
      ],
      "text/plain": [
       "       Max_Temp  Min_Temp  Rainfall  Relative_Humidity  Cloud_Coverage  \\\n",
       "2748  31.566667      13.7  0.000000          70.333333             0.1   \n",
       "2749  32.400000      13.5  0.000000          67.000000             0.9   \n",
       "2750  30.700000      14.9  0.000000          75.000000             1.5   \n",
       "2751  31.600000      12.7  0.000000          69.000000             0.3   \n",
       "2752  34.833333      16.7  0.333333          62.333333             0.7   \n",
       "\n",
       "      Bright_Sunshine  LATITUDE  LONGITUDE   Period  Wind_Speed  \n",
       "2748         6.411131     22.35    91.8166  2009.01    3.033333  \n",
       "2749         6.411131     22.35    91.8166  2011.01    2.800000  \n",
       "2750         6.411131     22.35    91.8166  2012.01    3.300000  \n",
       "2751         6.411131     22.35    91.8166  2013.01    3.000000  \n",
       "2752         6.411131     22.35    91.8166  2009.02    3.166667  "
      ]
     },
     "execution_count": 3,
     "metadata": {},
     "output_type": "execute_result"
    }
   ],
   "source": [
    "z = df_new[\"Wind_Speed\"]\n",
    "\n",
    "# df_new = df_new.drop(labels=[\"Wind_Speed\",\"X_COR\",\"Y_COR\",\"Bright_Sunshine\"], axis=1)\n",
    "df_new = df_new.drop(labels=[\"Wind_Speed\",\"X_COR\",\"Y_COR\",], axis=1)\n",
    "df_new['Wind_Speed'] = z\n",
    "df_new.head()"
   ]
  },
  {
   "cell_type": "code",
   "execution_count": 4,
   "metadata": {},
   "outputs": [],
   "source": [
    "X = df_new.iloc[:,:-1]\n",
    "Y = df_new.iloc[:,-1]"
   ]
  },
  {
   "cell_type": "code",
   "execution_count": 5,
   "metadata": {},
   "outputs": [],
   "source": [
    "from sklearn.model_selection import train_test_split\n",
    "trainX, testX, trainY, testY = train_test_split(X, Y, test_size = 0.2)"
   ]
  },
  {
   "cell_type": "markdown",
   "metadata": {},
   "source": [
    "# Preprocessiong with Standard Scaler "
   ]
  },
  {
   "cell_type": "code",
   "execution_count": 6,
   "metadata": {},
   "outputs": [],
   "source": [
    "# Standard Scaler\n",
    "\n",
    "from sklearn.preprocessing import StandardScaler\n",
    "\n",
    "sc=StandardScaler()\n",
    "scaler = sc.fit(trainX)\n",
    "trainX_scaled = scaler.transform(trainX)\n",
    "testX_scaled = scaler.transform(testX)"
   ]
  },
  {
   "cell_type": "markdown",
   "metadata": {},
   "source": [
    "# Random Forest Regression"
   ]
  },
  {
   "cell_type": "code",
   "execution_count": 7,
   "metadata": {},
   "outputs": [
    {
     "data": {
      "text/html": [
       "<div>\n",
       "<style scoped>\n",
       "    .dataframe tbody tr th:only-of-type {\n",
       "        vertical-align: middle;\n",
       "    }\n",
       "\n",
       "    .dataframe tbody tr th {\n",
       "        vertical-align: top;\n",
       "    }\n",
       "\n",
       "    .dataframe thead th {\n",
       "        text-align: right;\n",
       "    }\n",
       "</style>\n",
       "<table border=\"1\" class=\"dataframe\">\n",
       "  <thead>\n",
       "    <tr style=\"text-align: right;\">\n",
       "      <th></th>\n",
       "      <th>Actual</th>\n",
       "      <th>Predicted</th>\n",
       "    </tr>\n",
       "  </thead>\n",
       "  <tbody>\n",
       "    <tr>\n",
       "      <th>20227</th>\n",
       "      <td>1.2</td>\n",
       "      <td>1.215000</td>\n",
       "    </tr>\n",
       "    <tr>\n",
       "      <th>20904</th>\n",
       "      <td>1.5</td>\n",
       "      <td>1.437000</td>\n",
       "    </tr>\n",
       "    <tr>\n",
       "      <th>11582</th>\n",
       "      <td>1.3</td>\n",
       "      <td>1.391963</td>\n",
       "    </tr>\n",
       "    <tr>\n",
       "      <th>3288</th>\n",
       "      <td>3.9</td>\n",
       "      <td>4.114444</td>\n",
       "    </tr>\n",
       "    <tr>\n",
       "      <th>18623</th>\n",
       "      <td>0.2</td>\n",
       "      <td>0.208093</td>\n",
       "    </tr>\n",
       "  </tbody>\n",
       "</table>\n",
       "</div>"
      ],
      "text/plain": [
       "       Actual  Predicted\n",
       "20227     1.2   1.215000\n",
       "20904     1.5   1.437000\n",
       "11582     1.3   1.391963\n",
       "3288      3.9   4.114444\n",
       "18623     0.2   0.208093"
      ]
     },
     "execution_count": 7,
     "metadata": {},
     "output_type": "execute_result"
    }
   ],
   "source": [
    "from sklearn.ensemble import RandomForestRegressor\n",
    "  \n",
    " # create regressor object\n",
    "regressor = RandomForestRegressor(n_estimators = 100, random_state = 0)\n",
    "  \n",
    "# fit the regressor with x and y data\n",
    "regressor.fit(trainX, trainY) \n",
    "\n",
    "#  Prediction\n",
    "Y_pred_RF = regressor.predict(testX)\n",
    "\n",
    "df_temp = pd.DataFrame({'Actual': testY, 'Predicted': Y_pred_RF})\n",
    "df_temp.head()"
   ]
  },
  {
   "cell_type": "code",
   "execution_count": 8,
   "metadata": {},
   "outputs": [
    {
     "data": {
      "image/png": "[encoded data removed]",
      "text/plain": [
       "<Figure size 1080x432 with 1 Axes>"
      ]
     },
     "metadata": {
      "needs_background": "light"
     },
     "output_type": "display_data"
    }
   ],
   "source": [
    "df_temp = df_temp.head(30)\n",
    "df_temp.plot(kind='bar',figsize=(15,6))\n",
    "plt.grid(which='major', linestyle='-', linewidth='0.5', color='green')\n",
    "plt.grid(which='minor', linestyle=':', linewidth='0.5', color='black')\n",
    "# plt.show()"
   ]
  },
  {
   "cell_type": "code",
   "execution_count": 9,
   "metadata": {},
   "outputs": [
    {
     "data": {
      "text/plain": [
       "0.8235880187761849"
      ]
     },
     "execution_count": 9,
     "metadata": {},
     "output_type": "execute_result"
    }
   ],
   "source": [
    "from sklearn.metrics import r2_score\n",
    "score= r2_score(testY,Y_pred_RF)\n",
    "score"
   ]
  },
  {
   "cell_type": "code",
   "execution_count": 10,
   "metadata": {},
   "outputs": [
    {
     "name": "stdout",
     "output_type": "stream",
     "text": [
      "Mean Absolute Error: 0.35836097044297366\n",
      "Mean Squared Error: 0.276064439106007\n",
      "Root Mean Squared Error: 0.5254183467542859\n"
     ]
    }
   ],
   "source": [
    "from sklearn import metrics\n",
    "\n",
    "print('Mean Absolute Error:', metrics.mean_absolute_error(testY, Y_pred_RF))  \n",
    "print('Mean Squared Error:', metrics.mean_squared_error(testY, Y_pred_RF))  \n",
    "print('Root Mean Squared Error:', np.sqrt(metrics.mean_squared_error(testY, Y_pred_RF)))"
   ]
  },
  {
   "cell_type": "code",
   "execution_count": null,
   "metadata": {},
   "outputs": [],
   "source": []
  },
  {
   "cell_type": "markdown",
   "metadata": {},
   "source": [
    "# XGBoost Regression"
   ]
  },
  {
   "cell_type": "code",
   "execution_count": 11,
   "metadata": {},
   "outputs": [
    {
     "name": "stdout",
     "output_type": "stream",
     "text": [
      "[12:31:43] WARNING: C:/Users/administrator/workspace/xgboost-win64_release_1.6.0/src/objective/regression_obj.cu:203: reg:linear is now deprecated in favor of reg:squarederror.\n"
     ]
    }
   ],
   "source": [
    "from xgboost import XGBRegressor\n",
    "\n",
    "RegModel=XGBRegressor(max_depth=3, learning_rate=0.1, n_estimators=500, objective='reg:linear', booster='gbtree')\n",
    "XGB=RegModel.fit(trainX_scaled,trainY)\n",
    "prediction_XGB=XGB.predict(testX_scaled)"
   ]
  },
  {
   "cell_type": "code",
   "execution_count": 12,
   "metadata": {},
   "outputs": [
    {
     "data": {
      "text/html": [
       "<div>\n",
       "<style scoped>\n",
       "    .dataframe tbody tr th:only-of-type {\n",
       "        vertical-align: middle;\n",
       "    }\n",
       "\n",
       "    .dataframe tbody tr th {\n",
       "        vertical-align: top;\n",
       "    }\n",
       "\n",
       "    .dataframe thead th {\n",
       "        text-align: right;\n",
       "    }\n",
       "</style>\n",
       "<table border=\"1\" class=\"dataframe\">\n",
       "  <thead>\n",
       "    <tr style=\"text-align: right;\">\n",
       "      <th></th>\n",
       "      <th>Actual</th>\n",
       "      <th>Predicted</th>\n",
       "    </tr>\n",
       "  </thead>\n",
       "  <tbody>\n",
       "    <tr>\n",
       "      <th>20227</th>\n",
       "      <td>1.2</td>\n",
       "      <td>1.076644</td>\n",
       "    </tr>\n",
       "    <tr>\n",
       "      <th>20904</th>\n",
       "      <td>1.5</td>\n",
       "      <td>1.584660</td>\n",
       "    </tr>\n",
       "    <tr>\n",
       "      <th>11582</th>\n",
       "      <td>1.3</td>\n",
       "      <td>1.280071</td>\n",
       "    </tr>\n",
       "    <tr>\n",
       "      <th>3288</th>\n",
       "      <td>3.9</td>\n",
       "      <td>3.452182</td>\n",
       "    </tr>\n",
       "    <tr>\n",
       "      <th>18623</th>\n",
       "      <td>0.2</td>\n",
       "      <td>0.142563</td>\n",
       "    </tr>\n",
       "  </tbody>\n",
       "</table>\n",
       "</div>"
      ],
      "text/plain": [
       "       Actual  Predicted\n",
       "20227     1.2   1.076644\n",
       "20904     1.5   1.584660\n",
       "11582     1.3   1.280071\n",
       "3288      3.9   3.452182\n",
       "18623     0.2   0.142563"
      ]
     },
     "execution_count": 12,
     "metadata": {},
     "output_type": "execute_result"
    }
   ],
   "source": [
    "df_temp = pd.DataFrame({'Actual': testY, 'Predicted': prediction_XGB})\n",
    "df_temp.head()"
   ]
  },
  {
   "cell_type": "code",
   "execution_count": 13,
   "metadata": {},
   "outputs": [
    {
     "name": "stdout",
     "output_type": "stream",
     "text": [
      "R2 Value: 0.7858711702073645\n",
      "Mean Absolute Error: 0.412362777631189\n",
      "Mean Squared Error: 0.33508696451933173\n",
      "Root Mean Squared Error: 0.5788669661669525\n"
     ]
    }
   ],
   "source": [
    "#Measuring Goodness of fit in Training data\n",
    "from sklearn import metrics\n",
    "print('R2 Value:',metrics.r2_score(testY, prediction_XGB))\n",
    "\n",
    "print('Mean Absolute Error:', metrics.mean_absolute_error(testY, prediction_XGB))  \n",
    "print('Mean Squared Error:', metrics.mean_squared_error(testY, prediction_XGB))  \n",
    "print('Root Mean Squared Error:', np.sqrt(metrics.mean_squared_error(testY, prediction_XGB)))"
   ]
  },
  {
   "cell_type": "code",
   "execution_count": null,
   "metadata": {},
   "outputs": [],
   "source": []
  },
  {
   "cell_type": "markdown",
   "metadata": {},
   "source": [
    "# MLP Regression"
   ]
  },
  {
   "cell_type": "code",
   "execution_count": 14,
   "metadata": {},
   "outputs": [
    {
     "data": {
      "text/plain": [
       "MLPRegressor(hidden_layer_sizes=(150, 100, 50), max_iter=300)"
      ]
     },
     "execution_count": 14,
     "metadata": {},
     "output_type": "execute_result"
    }
   ],
   "source": [
    "# MLPRegressor\n",
    "\n",
    "from sklearn.neural_network import MLPRegressor\n",
    "\n",
    "mlp_reg = MLPRegressor(hidden_layer_sizes=(150,100,50),\n",
    "                       max_iter = 300,activation = 'relu',\n",
    "                       solver = 'adam')\n",
    "\n",
    "mlp_reg.fit(trainX_scaled, trainY)"
   ]
  },
  {
   "cell_type": "code",
   "execution_count": 15,
   "metadata": {},
   "outputs": [
    {
     "data": {
      "text/html": [
       "<div>\n",
       "<style scoped>\n",
       "    .dataframe tbody tr th:only-of-type {\n",
       "        vertical-align: middle;\n",
       "    }\n",
       "\n",
       "    .dataframe tbody tr th {\n",
       "        vertical-align: top;\n",
       "    }\n",
       "\n",
       "    .dataframe thead th {\n",
       "        text-align: right;\n",
       "    }\n",
       "</style>\n",
       "<table border=\"1\" class=\"dataframe\">\n",
       "  <thead>\n",
       "    <tr style=\"text-align: right;\">\n",
       "      <th></th>\n",
       "      <th>Actual</th>\n",
       "      <th>Predicted</th>\n",
       "    </tr>\n",
       "  </thead>\n",
       "  <tbody>\n",
       "    <tr>\n",
       "      <th>20227</th>\n",
       "      <td>1.2</td>\n",
       "      <td>1.278328</td>\n",
       "    </tr>\n",
       "    <tr>\n",
       "      <th>20904</th>\n",
       "      <td>1.5</td>\n",
       "      <td>1.846111</td>\n",
       "    </tr>\n",
       "    <tr>\n",
       "      <th>11582</th>\n",
       "      <td>1.3</td>\n",
       "      <td>1.193974</td>\n",
       "    </tr>\n",
       "    <tr>\n",
       "      <th>3288</th>\n",
       "      <td>3.9</td>\n",
       "      <td>4.613360</td>\n",
       "    </tr>\n",
       "    <tr>\n",
       "      <th>18623</th>\n",
       "      <td>0.2</td>\n",
       "      <td>0.167663</td>\n",
       "    </tr>\n",
       "  </tbody>\n",
       "</table>\n",
       "</div>"
      ],
      "text/plain": [
       "       Actual  Predicted\n",
       "20227     1.2   1.278328\n",
       "20904     1.5   1.846111\n",
       "11582     1.3   1.193974\n",
       "3288      3.9   4.613360\n",
       "18623     0.2   0.167663"
      ]
     },
     "execution_count": 15,
     "metadata": {},
     "output_type": "execute_result"
    }
   ],
   "source": [
    "y_pred = mlp_reg.predict(testX_scaled)\n",
    "df_temp = pd.DataFrame({'Actual': testY, 'Predicted': y_pred})\n",
    "df_temp.head()"
   ]
  },
  {
   "cell_type": "code",
   "execution_count": 16,
   "metadata": {},
   "outputs": [
    {
     "data": {
      "image/png": "[encoded data removed]",
      "text/plain": [
       "<Figure size 720x432 with 1 Axes>"
      ]
     },
     "metadata": {
      "needs_background": "light"
     },
     "output_type": "display_data"
    }
   ],
   "source": [
    "df_temp = df_temp.head(30)\n",
    "df_temp.plot(kind='bar',figsize=(10,6))\n",
    "plt.grid(which='major', linestyle='-', linewidth='0.5', color='green')\n",
    "plt.grid(which='minor', linestyle=':', linewidth='0.5', color='black')\n",
    "# plt.show()"
   ]
  },
  {
   "cell_type": "code",
   "execution_count": 17,
   "metadata": {},
   "outputs": [
    {
     "data": {
      "text/plain": [
       "Text(0, 0.5, 'Cost')"
      ]
     },
     "execution_count": 17,
     "metadata": {},
     "output_type": "execute_result"
    },
    {
     "data": {
      "image/png": "[encoded data removed]",
      "text/plain": [
       "<Figure size 432x288 with 1 Axes>"
      ]
     },
     "metadata": {
      "needs_background": "light"
     },
     "output_type": "display_data"
    }
   ],
   "source": [
    "plt.plot(mlp_reg.loss_curve_)\n",
    "plt.title(\"Loss Curve\", fontsize=14)\n",
    "plt.xlabel('Iterations')\n",
    "plt.ylabel('Cost')"
   ]
  },
  {
   "cell_type": "code",
   "execution_count": 18,
   "metadata": {},
   "outputs": [
    {
     "data": {
      "text/plain": [
       "0.7320159801686574"
      ]
     },
     "execution_count": 18,
     "metadata": {},
     "output_type": "execute_result"
    }
   ],
   "source": [
    "from sklearn.metrics import r2_score\n",
    "score= r2_score(testY,y_pred)\n",
    "score"
   ]
  },
  {
   "cell_type": "code",
   "execution_count": 19,
   "metadata": {},
   "outputs": [
    {
     "name": "stdout",
     "output_type": "stream",
     "text": [
      "{'activation': 'tanh', 'alpha': 0.0001, 'hidden_layer_sizes': (150, 100, 50), 'learning_rate': 'adaptive', 'max_iter': 100, 'solver': 'adam'}\n"
     ]
    },
    {
     "name": "stderr",
     "output_type": "stream",
     "text": [
      "C:\\ProgramData\\Anaconda3\\lib\\site-packages\\sklearn\\neural_network\\_multilayer_perceptron.py:582: ConvergenceWarning: Stochastic Optimizer: Maximum iterations (100) reached and the optimization hasn't converged yet.\n",
      "  warnings.warn(\n"
     ]
    }
   ],
   "source": [
    "param_grid = {\n",
    "    'hidden_layer_sizes': [(150,100,50), (120,80,40), (100,50,30)],\n",
    "    'max_iter': [50, 100],\n",
    "    'activation': ['tanh', 'relu'],\n",
    "    'solver': ['sgd', 'adam'],\n",
    "    'alpha': [0.0001, 0.05],\n",
    "    'learning_rate': ['constant','adaptive'],\n",
    "}\n",
    "\n",
    "from sklearn.model_selection import GridSearchCV\n",
    "\n",
    "grid = GridSearchCV(mlp_reg, param_grid, n_jobs= -1, cv=5)\n",
    "grid.fit(trainX_scaled, trainY)\n",
    "\n",
    "print(grid.best_params_) "
   ]
  },
  {
   "cell_type": "code",
   "execution_count": 20,
   "metadata": {},
   "outputs": [
    {
     "data": {
      "text/html": [
       "<div>\n",
       "<style scoped>\n",
       "    .dataframe tbody tr th:only-of-type {\n",
       "        vertical-align: middle;\n",
       "    }\n",
       "\n",
       "    .dataframe tbody tr th {\n",
       "        vertical-align: top;\n",
       "    }\n",
       "\n",
       "    .dataframe thead th {\n",
       "        text-align: right;\n",
       "    }\n",
       "</style>\n",
       "<table border=\"1\" class=\"dataframe\">\n",
       "  <thead>\n",
       "    <tr style=\"text-align: right;\">\n",
       "      <th></th>\n",
       "      <th>Actual</th>\n",
       "      <th>Predicted</th>\n",
       "    </tr>\n",
       "  </thead>\n",
       "  <tbody>\n",
       "    <tr>\n",
       "      <th>20227</th>\n",
       "      <td>1.2</td>\n",
       "      <td>1.487202</td>\n",
       "    </tr>\n",
       "    <tr>\n",
       "      <th>20904</th>\n",
       "      <td>1.5</td>\n",
       "      <td>1.609871</td>\n",
       "    </tr>\n",
       "    <tr>\n",
       "      <th>11582</th>\n",
       "      <td>1.3</td>\n",
       "      <td>1.399914</td>\n",
       "    </tr>\n",
       "    <tr>\n",
       "      <th>3288</th>\n",
       "      <td>3.9</td>\n",
       "      <td>4.678062</td>\n",
       "    </tr>\n",
       "    <tr>\n",
       "      <th>18623</th>\n",
       "      <td>0.2</td>\n",
       "      <td>0.293605</td>\n",
       "    </tr>\n",
       "  </tbody>\n",
       "</table>\n",
       "</div>"
      ],
      "text/plain": [
       "       Actual  Predicted\n",
       "20227     1.2   1.487202\n",
       "20904     1.5   1.609871\n",
       "11582     1.3   1.399914\n",
       "3288      3.9   4.678062\n",
       "18623     0.2   0.293605"
      ]
     },
     "execution_count": 20,
     "metadata": {},
     "output_type": "execute_result"
    }
   ],
   "source": [
    "grid_predictions = grid.predict(testX_scaled) \n",
    "df_temp2 = pd.DataFrame({'Actual': testY, 'Predicted': grid_predictions})\n",
    "df_temp2.head()"
   ]
  },
  {
   "cell_type": "code",
   "execution_count": 21,
   "metadata": {},
   "outputs": [
    {
     "data": {
      "image/png": "[encoded data removed]",
      "text/plain": [
       "<Figure size 720x432 with 1 Axes>"
      ]
     },
     "metadata": {
      "needs_background": "light"
     },
     "output_type": "display_data"
    }
   ],
   "source": [
    "df_temp2 = df_temp2.head(30)\n",
    "df_temp2.plot(kind='bar',figsize=(10,6))\n",
    "plt.grid(which='major', linestyle='-', linewidth='0.5', color='green')\n",
    "plt.grid(which='minor', linestyle=':', linewidth='0.5', color='black')\n",
    "# plt.show()"
   ]
  },
  {
   "cell_type": "code",
   "execution_count": 22,
   "metadata": {},
   "outputs": [
    {
     "name": "stdout",
     "output_type": "stream",
     "text": [
      "R2 Value: 0.7750781265739675\n",
      "Mean Absolute Error: 0.4282352708510696\n",
      "Mean Squared Error: 0.35197683512919814\n",
      "Root Mean Squared Error: 0.5932763564555713\n"
     ]
    }
   ],
   "source": [
    "#Measuring Goodness of fit in Training data\n",
    "from sklearn import metrics\n",
    "print('R2 Value:',metrics.r2_score(testY, grid_predictions))\n",
    "\n",
    "print('Mean Absolute Error:', metrics.mean_absolute_error(testY, grid_predictions))  \n",
    "print('Mean Squared Error:', metrics.mean_squared_error(testY, grid_predictions))  \n",
    "print('Root Mean Squared Error:', np.sqrt(metrics.mean_squared_error(testY, grid_predictions)))"
   ]
  },
  {
   "cell_type": "code",
   "execution_count": 23,
   "metadata": {},
   "outputs": [
    {
     "data": {
      "text/html": [
       "<div>\n",
       "<style scoped>\n",
       "    .dataframe tbody tr th:only-of-type {\n",
       "        vertical-align: middle;\n",
       "    }\n",
       "\n",
       "    .dataframe tbody tr th {\n",
       "        vertical-align: top;\n",
       "    }\n",
       "\n",
       "    .dataframe thead th {\n",
       "        text-align: right;\n",
       "    }\n",
       "</style>\n",
       "<table border=\"1\" class=\"dataframe\">\n",
       "  <thead>\n",
       "    <tr style=\"text-align: right;\">\n",
       "      <th></th>\n",
       "      <th>Actual</th>\n",
       "      <th>pred_RF</th>\n",
       "      <th>pred_XGB</th>\n",
       "      <th>pred_MLP</th>\n",
       "      <th>mean_pred</th>\n",
       "    </tr>\n",
       "  </thead>\n",
       "  <tbody>\n",
       "    <tr>\n",
       "      <th>20227</th>\n",
       "      <td>1.2</td>\n",
       "      <td>1.215000</td>\n",
       "      <td>1.076644</td>\n",
       "      <td>1.487202</td>\n",
       "      <td>1.259616</td>\n",
       "    </tr>\n",
       "    <tr>\n",
       "      <th>20904</th>\n",
       "      <td>1.5</td>\n",
       "      <td>1.437000</td>\n",
       "      <td>1.584660</td>\n",
       "      <td>1.609871</td>\n",
       "      <td>1.543844</td>\n",
       "    </tr>\n",
       "    <tr>\n",
       "      <th>11582</th>\n",
       "      <td>1.3</td>\n",
       "      <td>1.391963</td>\n",
       "      <td>1.280071</td>\n",
       "      <td>1.399914</td>\n",
       "      <td>1.357316</td>\n",
       "    </tr>\n",
       "    <tr>\n",
       "      <th>3288</th>\n",
       "      <td>3.9</td>\n",
       "      <td>4.114444</td>\n",
       "      <td>3.452182</td>\n",
       "      <td>4.678062</td>\n",
       "      <td>4.081563</td>\n",
       "    </tr>\n",
       "    <tr>\n",
       "      <th>18623</th>\n",
       "      <td>0.2</td>\n",
       "      <td>0.208093</td>\n",
       "      <td>0.142563</td>\n",
       "      <td>0.293605</td>\n",
       "      <td>0.214754</td>\n",
       "    </tr>\n",
       "  </tbody>\n",
       "</table>\n",
       "</div>"
      ],
      "text/plain": [
       "       Actual   pred_RF  pred_XGB  pred_MLP  mean_pred\n",
       "20227     1.2  1.215000  1.076644  1.487202   1.259616\n",
       "20904     1.5  1.437000  1.584660  1.609871   1.543844\n",
       "11582     1.3  1.391963  1.280071  1.399914   1.357316\n",
       "3288      3.9  4.114444  3.452182  4.678062   4.081563\n",
       "18623     0.2  0.208093  0.142563  0.293605   0.214754"
      ]
     },
     "execution_count": 23,
     "metadata": {},
     "output_type": "execute_result"
    }
   ],
   "source": [
    "mean_pred=( Y_pred_RF+prediction_XGB+ grid_predictions)/3\n",
    "df_temp2 = pd.DataFrame({'Actual': testY, 'pred_RF': Y_pred_RF,'pred_XGB':prediction_XGB,'pred_MLP': grid_predictions,'mean_pred':mean_pred})\n",
    "df_temp2.head()"
   ]
  },
  {
   "cell_type": "code",
   "execution_count": 24,
   "metadata": {},
   "outputs": [
    {
     "data": {
      "image/png": "[encoded data removed]",
      "text/plain": [
       "<Figure size 1800x720 with 1 Axes>"
      ]
     },
     "metadata": {
      "needs_background": "light"
     },
     "output_type": "display_data"
    }
   ],
   "source": [
    "df_temp2 = df_temp2.head(30)\n",
    "df_temp2.plot(kind='bar',figsize=(25,10))\n",
    "plt.grid(which='major', linestyle='-', linewidth='0.5', color='green')\n",
    "plt.grid(which='minor', linestyle=':', linewidth='0.5', color='black')"
   ]
  },
  {
   "cell_type": "code",
   "execution_count": 25,
   "metadata": {},
   "outputs": [
    {
     "data": {
      "text/html": [
       "<div>\n",
       "<style scoped>\n",
       "    .dataframe tbody tr th:only-of-type {\n",
       "        vertical-align: middle;\n",
       "    }\n",
       "\n",
       "    .dataframe tbody tr th {\n",
       "        vertical-align: top;\n",
       "    }\n",
       "\n",
       "    .dataframe thead th {\n",
       "        text-align: right;\n",
       "    }\n",
       "</style>\n",
       "<table border=\"1\" class=\"dataframe\">\n",
       "  <thead>\n",
       "    <tr style=\"text-align: right;\">\n",
       "      <th></th>\n",
       "      <th>Actual</th>\n",
       "      <th>mean_pred</th>\n",
       "    </tr>\n",
       "  </thead>\n",
       "  <tbody>\n",
       "    <tr>\n",
       "      <th>20227</th>\n",
       "      <td>1.2</td>\n",
       "      <td>1.259616</td>\n",
       "    </tr>\n",
       "    <tr>\n",
       "      <th>20904</th>\n",
       "      <td>1.5</td>\n",
       "      <td>1.543844</td>\n",
       "    </tr>\n",
       "    <tr>\n",
       "      <th>11582</th>\n",
       "      <td>1.3</td>\n",
       "      <td>1.357316</td>\n",
       "    </tr>\n",
       "    <tr>\n",
       "      <th>3288</th>\n",
       "      <td>3.9</td>\n",
       "      <td>4.081563</td>\n",
       "    </tr>\n",
       "    <tr>\n",
       "      <th>18623</th>\n",
       "      <td>0.2</td>\n",
       "      <td>0.214754</td>\n",
       "    </tr>\n",
       "  </tbody>\n",
       "</table>\n",
       "</div>"
      ],
      "text/plain": [
       "       Actual  mean_pred\n",
       "20227     1.2   1.259616\n",
       "20904     1.5   1.543844\n",
       "11582     1.3   1.357316\n",
       "3288      3.9   4.081563\n",
       "18623     0.2   0.214754"
      ]
     },
     "execution_count": 25,
     "metadata": {},
     "output_type": "execute_result"
    }
   ],
   "source": [
    "mean_pred=( Y_pred_RF+prediction_XGB+ grid_predictions)/3\n",
    "df_temp2 = pd.DataFrame({'Actual': testY, 'mean_pred':mean_pred})\n",
    "df_temp2.head()"
   ]
  },
  {
   "cell_type": "code",
   "execution_count": 26,
   "metadata": {},
   "outputs": [
    {
     "name": "stdout",
     "output_type": "stream",
     "text": [
      "R2 Value: 82.21316263090162 %\n",
      "Mean Absolute Error: 0.3688634462169604\n",
      "Mean Squared Error: 0.2783435256327721\n",
      "Root Mean Squared Error: 0.5275827192325124\n"
     ]
    }
   ],
   "source": [
    "print('R2 Value:',metrics.r2_score(testY, mean_pred)*100,\"%\")\n",
    "print('Mean Absolute Error:', metrics.mean_absolute_error(testY, mean_pred))  \n",
    "print('Mean Squared Error:', metrics.mean_squared_error(testY, mean_pred))  \n",
    "print('Root Mean Squared Error:', np.sqrt(metrics.mean_squared_error(testY, mean_pred)))"
   ]
  },
  {
   "cell_type": "code",
   "execution_count": null,
   "metadata": {},
   "outputs": [],
   "source": []
  }
 ],
 "metadata": {
  "kernelspec": {
   "display_name": "Python 3",
   "language": "python",
   "name": "python3"
  },
  "language_info": {
   "codemirror_mode": {
    "name": "ipython",
    "version": 3
   },
   "file_extension": ".py",
   "mimetype": "text/x-python",
   "name": "python",
   "nbconvert_exporter": "python",
   "pygments_lexer": "ipython3",
   "version": "3.8.5"
  }
 },
 "nbformat": 4,
 "nbformat_minor": 4
}
